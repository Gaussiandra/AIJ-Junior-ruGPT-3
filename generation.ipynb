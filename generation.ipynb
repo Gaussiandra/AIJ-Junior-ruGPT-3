{
  "nbformat": 4,
  "nbformat_minor": 0,
  "metadata": {
    "accelerator": "GPU",
    "colab": {
      "name": "gpt_notebook.ipynb",
      "provenance": [],
      "collapsed_sections": [],
      "machine_shape": "hm",
      "include_colab_link": true
    },
    "kernelspec": {
      "display_name": "Python 3",
      "language": "python",
      "name": "python3"
    },
    "language_info": {
      "codemirror_mode": {
        "name": "ipython",
        "version": 3
      },
      "file_extension": ".py",
      "mimetype": "text/x-python",
      "name": "python",
      "nbconvert_exporter": "python",
      "pygments_lexer": "ipython3",
      "version": "3.6.9"
    }
  },
  "cells": [
    {
      "cell_type": "markdown",
      "metadata": {
        "id": "view-in-github",
        "colab_type": "text"
      },
      "source": [
        "<a href=\"https://colab.research.google.com/github/Gaussiandra/AIJ-Junior-ruGPT-3/blob/main/generation.ipynb\" target=\"_parent\"><img src=\"https://colab.research.google.com/assets/colab-badge.svg\" alt=\"Open In Colab\"/></a>"
      ]
    },
    {
      "cell_type": "code",
      "metadata": {
        "colab": {
          "base_uri": "https://localhost:8080/"
        },
        "id": "_mbEORRiQAGo",
        "outputId": "05b63937-96ee-4ea3-d46a-c398ffc9977e"
      },
      "source": [
        "from google.colab import drive\n",
        "drive.mount('/content/drive')"
      ],
      "execution_count": null,
      "outputs": [
        {
          "output_type": "stream",
          "text": [
            "Drive already mounted at /content/drive; to attempt to forcibly remount, call drive.mount(\"/content/drive\", force_remount=True).\n"
          ],
          "name": "stdout"
        }
      ]
    },
    {
      "cell_type": "code",
      "metadata": {
        "id": "s4QJdgQ0jAHx"
      },
      "source": [
        "!git clone https://github.com/sberbank-ai/ru-gpts /home/jovyan/rugpts\n",
        "!pip install -r /home/jovyan/rugpts/requirements.txt\n",
        "\n",
        "!git clone https://github.com/sberbank-ai/ruGPT3_essays /home/jovyan/gpt/ruGPT3_essays/"
      ],
      "execution_count": null,
      "outputs": []
    },
    {
      "cell_type": "code",
      "metadata": {
        "id": "YuRUku6xXAnd"
      },
      "source": [
        "!cp -r \"/content/drive/MyDrive/ML/AIJ2020 AI4H/demo/GPT3Medium\" /home/jovyan/gpt/gpt3medium/\n",
        "!cp -r \"/content/drive/MyDrive/ML/AIJ2020 AI4H/demo/GPT2Large\" /home/jovyan/gpt/gpt2large/"
      ],
      "execution_count": null,
      "outputs": []
    },
    {
      "cell_type": "markdown",
      "metadata": {
        "id": "Yz5CVBoejC7w"
      },
      "source": [
        "---"
      ]
    },
    {
      "cell_type": "markdown",
      "metadata": {
        "id": "QUDkfDRFPpxr"
      },
      "source": [
        "## Generation"
      ]
    },
    {
      "cell_type": "code",
      "metadata": {
        "id": "OXO4QqbRPpxr"
      },
      "source": [
        "import pexpect\n",
        "import sys\n",
        "import time\n",
        "import os\n",
        "import json\n",
        "import re\n",
        "import torch\n",
        "import subprocess\n",
        "from transformers import AutoTokenizer, AutoModel\n",
        "from itertools import chain"
      ],
      "execution_count": null,
      "outputs": []
    },
    {
      "cell_type": "code",
      "metadata": {
        "id": "lrPxA_WuPpxr"
      },
      "source": [
        "def singleton(cls):\n",
        "    instances = {}\n",
        "    def getinstance():\n",
        "        if cls not in instances:\n",
        "            instances[cls] = cls()\n",
        "        return instances[cls]\n",
        "    return getinstance\n",
        "\n",
        "@singleton\n",
        "class Similarity:\n",
        "    def __init__(self):\n",
        "        self.model_name = 'DeepPavlov/rubert-base-cased'\n",
        "        self.model = AutoModel.from_pretrained(self.model_name)\n",
        "        self.tokenizer = AutoTokenizer.from_pretrained(self.model_name)\n",
        "\n",
        "        self.device = torch.device('cuda') if torch.cuda.is_available() else torch.device('cpu')\n",
        "        self.model.eval()\n",
        "        self.model.to(self.device)\n",
        "    \n",
        "    def get_most_similar(self, theme, essays):\n",
        "        with torch.no_grad():\n",
        "            embeddings = torch.empty(0).to(self.device)\n",
        "            for text in chain([theme], essays):\n",
        "                tokenized_text = self.tokenizer.encode_plus(text, return_tensors='pt')\n",
        "                input_ids, _, attention_mask = tokenized_text.values()\n",
        "                cur_emb = self.model(input_ids.to(self.device), attention_mask.to(self.device))[1]\n",
        "                embeddings = torch.cat([embeddings, cur_emb], dim=0)\n",
        "\n",
        "            sim = torch.cosine_similarity(embeddings[0].repeat(len(essays), 1), embeddings[1:])\n",
        "            index = sim.argmax()\n",
        "            return essays[index]"
      ],
      "execution_count": null,
      "outputs": []
    },
    {
      "cell_type": "code",
      "metadata": {
        "id": "zPjURoa6Ppxr"
      },
      "source": [
        "def get_essay(subject, theme, child, n_attempts=2):\n",
        "    subs = {'russian': 'рус',\n",
        "            'social': 'общ',\n",
        "            'history': 'ист',\n",
        "            'literature': 'лит'}\n",
        "    pattern = 'ПРЕД {} ТЕКСТ {} СОЧИН '\n",
        "    \n",
        "    essays = []\n",
        "    for _ in range(n_attempts):\n",
        "        cur_essay = ' '\n",
        "        while (cur_essay[-1] not in '.?!…' or \n",
        "               cur_essay.count(' ') < 175 or \n",
        "               'СОЧИН' in cur_essay):\n",
        "            model_prompt = pattern.format(subs[subject], theme)\n",
        "            model_prompt = re.sub('\\(\\d+\\)', '', model_prompt)\n",
        "\n",
        "            child.sendline(model_prompt)\n",
        "            child.expect(['Context'], timeout=240)\n",
        "\n",
        "            model_output = child.before.decode('utf-8')\n",
        "            essay_first_idx = model_output.rfind(model_prompt) + len(model_prompt) + 1\n",
        "            cur_essay = model_output[essay_first_idx:-2]   \n",
        "\n",
        "        essays.append(cur_essay)\n",
        "    \n",
        "    if n_attempts > 1:\n",
        "        return Similarity().get_most_similar(theme, essays)\n",
        "    else:\n",
        "        return essays[0]"
      ],
      "execution_count": null,
      "outputs": []
    },
    {
      "cell_type": "markdown",
      "metadata": {
        "id": "W-rba3mZSrZl"
      },
      "source": [
        "#### GPT2Large"
      ]
    },
    {
      "cell_type": "code",
      "metadata": {
        "colab": {
          "base_uri": "https://localhost:8080/"
        },
        "id": "36woSRO-QGd0",
        "outputId": "d7620118-d01b-4bd8-ee0c-4b0a71f82a90"
      },
      "source": [
        "%%writefile /home/jovyan/rugpts/scripts/generate_ruGPT2Large.sh\n",
        "#! /bin/bash\n",
        "\n",
        "NUM_GPUS_PER_WORKER=1\n",
        "\n",
        "mpirun --allow-run-as-root --np ${NUM_GPUS_PER_WORKER} python /home/jovyan/rugpts/generate_transformers.py \\\n",
        "    --model_type=gpt2 \\\n",
        "    --model_name_or_path=/home/jovyan/gpt/gpt2large/ \\\n",
        "    --p=0.9 \\\n",
        "    --k=7 \\\n",
        "    --length=700 \\\n",
        "    --num_return_sequences=1 \\\n",
        "    --repetition_penalty=1.2 \\"
      ],
      "execution_count": null,
      "outputs": [
        {
          "output_type": "stream",
          "text": [
            "Overwriting /home/jovyan/rugpts/scripts/generate_ruGPT2Large.sh\n"
          ],
          "name": "stdout"
        }
      ]
    },
    {
      "cell_type": "code",
      "metadata": {
        "id": "-bNt2kTjPpxr"
      },
      "source": [
        "gpt2_child = pexpect.spawn(\"bash /home/jovyan/rugpts/scripts/generate_ruGPT2Large.sh\")\n",
        "gpt2_child.expect('Context', timeout=None)\n",
        "gpt2_child.logfile = open('/home/jovyan/gpt/mylog.txt', 'wb')"
      ],
      "execution_count": null,
      "outputs": []
    },
    {
      "cell_type": "code",
      "metadata": {
        "scrolled": true,
        "colab": {
          "base_uri": "https://localhost:8080/",
          "height": 213
        },
        "id": "dNzL3fgxPpxr",
        "outputId": "e7e03345-723a-4dda-ec0e-19d55c9b3e5a"
      },
      "source": [
        "get_essay(\n",
        "    'history', \n",
        "    'Период истории России 1925-1943 гг. (индустриализация и коллективизация страны)',\n",
        "    gpt2_child,\n",
        "    1\n",
        ")"
      ],
      "execution_count": null,
      "outputs": [
        {
          "output_type": "execute_result",
          "data": {
            "application/vnd.google.colaboratory.intrinsic+json": {
              "type": "string"
            },
            "text/plain": [
              "'Историки оценивают период 1924—1953 годов неоднозначно, отмечая как индустриализацию, так и масштабные репрессии против «врагов народа». В целом историки признают необходимость форсированной модернизации советской экономики в интересах скорейшего восстановления народного хозяйства после гражданской войны и усиления военного потенциала страны. Вместе с тем многие из них подчеркивают непоследовательность политики Советского правительства по отношению к крестьянству. С одной стороны, государство проводило политику расширения закупок сельскохозяйственной продукции у населения, стремилось привлечь иностранные инвестиции; были осуществлены первые массовые кампании по борьбе со взяточничеством на селе; развернулось активное строительство жилья для рабочих городов. Другой стороной медали стал массовый террор периода 30-х — 40-х годов прошлого века: необоснованные аресты, выселения целых деревень, массовое переселение семей «кулаков» за границу.'"
            ]
          },
          "metadata": {
            "tags": []
          },
          "execution_count": 123
        }
      ]
    },
    {
      "cell_type": "code",
      "metadata": {
        "id": "5JBAlSNPPpxr"
      },
      "source": [
        "gpt2_child.close()"
      ],
      "execution_count": null,
      "outputs": []
    }
  ]
}