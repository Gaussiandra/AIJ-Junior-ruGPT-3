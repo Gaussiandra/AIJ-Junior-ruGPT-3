{
  "nbformat": 4,
  "nbformat_minor": 0,
  "metadata": {
    "accelerator": "GPU",
    "colab": {
      "name": "full code.ipynb",
      "provenance": [],
      "collapsed_sections": [],
      "toc_visible": true,
      "machine_shape": "hm",
      "include_colab_link": true
    },
    "kernelspec": {
      "display_name": "Python 3",
      "language": "python",
      "name": "python3"
    },
    "language_info": {
      "codemirror_mode": {
        "name": "ipython",
        "version": 3
      },
      "file_extension": ".py",
      "mimetype": "text/x-python",
      "name": "python",
      "nbconvert_exporter": "python",
      "pygments_lexer": "ipython3",
      "version": "3.6.9"
    }
  },
  "cells": [
    {
      "cell_type": "markdown",
      "metadata": {
        "id": "view-in-github",
        "colab_type": "text"
      },
      "source": [
        "<a href=\"https://colab.research.google.com/github/Gaussiandra/AIJ-Junior-ruGPT-3/blob/main/Training.ipynb\" target=\"_parent\"><img src=\"https://colab.research.google.com/assets/colab-badge.svg\" alt=\"Open In Colab\"/></a>"
      ]
    },
    {
      "cell_type": "code",
      "metadata": {
        "colab": {
          "base_uri": "https://localhost:8080/"
        },
        "id": "UdjMGkto8Pi-",
        "outputId": "c878be11-1bf3-4749-9115-076a00c4dc85"
      },
      "source": [
        "!free -m\n",
        "!nvidia-smi"
      ],
      "execution_count": null,
      "outputs": [
        {
          "output_type": "stream",
          "text": [
            "              total        used        free      shared  buff/cache   available\n",
            "Mem:        1546833      112404      362268        9475     1072159     1417282\n",
            "Swap:             0           0           0\n",
            "Sun Nov 22 11:18:35 2020       \n",
            "+-----------------------------------------------------------------------------+\n",
            "| NVIDIA-SMI 410.129      Driver Version: 410.129      CUDA Version: 10.1     |\n",
            "|-------------------------------+----------------------+----------------------+\n",
            "| GPU  Name        Persistence-M| Bus-Id        Disp.A | Volatile Uncorr. ECC |\n",
            "| Fan  Temp  Perf  Pwr:Usage/Cap|         Memory-Usage | GPU-Util  Compute M. |\n",
            "|===============================+======================+======================|\n",
            "|   0  Tesla V100-SXM3...  On   | 00000000:57:00.0 Off |                    0 |\n",
            "| N/A   31C    P0    52W / 350W |      0MiB / 32480MiB |      0%      Default |\n",
            "+-------------------------------+----------------------+----------------------+\n",
            "                                                                               \n",
            "+-----------------------------------------------------------------------------+\n",
            "| Processes:                                                       GPU Memory |\n",
            "|  GPU       PID   Type   Process name                             Usage      |\n",
            "|=============================================================================|\n",
            "|  No running processes found                                                 |\n",
            "+-----------------------------------------------------------------------------+\n"
          ],
          "name": "stdout"
        }
      ]
    },
    {
      "cell_type": "code",
      "metadata": {
        "id": "s4QJdgQ0jAHx"
      },
      "source": [
        "!git clone https://github.com/sberbank-ai/ru-gpts /home/jovyan/rugpts\n",
        "!pip install -r /home/jovyan/rugpts/requirements.txt"
      ],
      "execution_count": null,
      "outputs": []
    },
    {
      "cell_type": "code",
      "metadata": {
        "id": "wCzAEN0YTUVa",
        "jupyter": {
          "outputs_hidden": true
        }
      },
      "source": [
        "!git clone https://github.com/NVIDIA/apex\n",
        "!cd apex\n",
        "!pip install -v --no-cache-dir --global-option=\"--cpp_ext\" --global-option=\"--cuda_ext\" ./apex"
      ],
      "execution_count": null,
      "outputs": []
    },
    {
      "cell_type": "markdown",
      "metadata": {
        "id": "nvCjXk2mHF97"
      },
      "source": [
        "### GPT3Medium"
      ]
    },
    {
      "cell_type": "code",
      "metadata": {
        "id": "Zuwr6ZyVHF98",
        "outputId": "337e9a85-cdf5-43d9-d9b1-bf712bd461f6"
      },
      "source": [
        "%%writefile /home/jovyan/rugpts/scripts/pretrain_ruGPT3Medium.sh\n",
        "#! /bin/bash\n",
        "\n",
        "NUM_GPUS_PER_WORKER=1\n",
        "\n",
        "now=$(date +\"%Y_%m_%d_%H_%I_%S\")\n",
        "host=$(hostname)\n",
        "\n",
        "mpirun --allow-run-as-root --np ${NUM_GPUS_PER_WORKER} python /home/jovyan/rugpts/pretrain_transformers.py \\\n",
        "    --output_dir=/home/jovyan/gpt/essays/checkpoints_\"${now}\"_\"${host}\" \\\n",
        "    --model_type=gpt2 \\\n",
        "    --model_name_or_path=sberbank-ai/rugpt3medium_based_on_gpt2 \\\n",
        "    --do_train \\\n",
        "    --train_data_file=/home/jovyan/gpt/texts_train.txt \\\n",
        "    --fp16 \\\n",
        "    --num_train_epochs=15 \\\n",
        "    --overwrite_cache \\\n",
        "    --block_size=2048 \\\n",
        "    --per_gpu_train_batch_size=1 \\\n",
        "    --logging_steps=200 \\\n",
        "    --gradient_accumulation_steps=16 \\\n",
        "    --save_steps=100000 \\"
      ],
      "execution_count": null,
      "outputs": [
        {
          "output_type": "stream",
          "text": [
            "Overwriting /home/jovyan/rugpts/scripts/pretrain_ruGPT3Medium.sh\n"
          ],
          "name": "stdout"
        }
      ]
    },
    {
      "cell_type": "code",
      "metadata": {
        "id": "sokaEXILHF98"
      },
      "source": [
        "!bash /home/jovyan/rugpts/scripts/pretrain_ruGPT3Medium.sh"
      ],
      "execution_count": null,
      "outputs": []
    },
    {
      "cell_type": "markdown",
      "metadata": {
        "id": "0aGvNsJP19hT"
      },
      "source": [
        "### GPT2Large"
      ]
    },
    {
      "cell_type": "code",
      "metadata": {
        "id": "IBXCPHr6PzKu"
      },
      "source": [
        "%%writefile /home/jovyan/rugpts/scripts/pretrain_ruGPT2Large.sh\n",
        "#! /bin/bash\n",
        "\n",
        "NUM_GPUS_PER_WORKER=1\n",
        "\n",
        "now=$(date +\"%Y_%m_%d_%H_%I_%S\")\n",
        "host=$(hostname)\n",
        "\n",
        "mpirun --allow-run-as-root --np ${NUM_GPUS_PER_WORKER} python /home/jovyan/rugpts/pretrain_transformers.py \\\n",
        "    --output_dir=/home/jovyan/gpt/essays/checkpoints_\"${now}\"_\"${host}\" \\\n",
        "    --model_type=gpt2 \\\n",
        "    --model_name_or_path=sberbank-ai/rugpt2large \\\n",
        "    --do_train \\\n",
        "    --train_data_file=/home/jovyan/gpt/texts_train.txt \\\n",
        "    --fp16 \\\n",
        "    --num_train_epochs=15 \\\n",
        "    --overwrite_cache \\\n",
        "    --block_size=1024 \\\n",
        "    --per_gpu_train_batch_size=1 \\\n",
        "    --logging_steps=1 \\\n",
        "    --gradient_accumulation_steps=16 \\\n",
        "    --save_steps=100000"
      ],
      "execution_count": null,
      "outputs": []
    },
    {
      "cell_type": "code",
      "metadata": {
        "id": "hVOEm6YpP6yN",
        "scrolled": true
      },
      "source": [
        "!bash /home/jovyan/rugpts/scripts/pretrain_ruGPT2Large.sh"
      ],
      "execution_count": null,
      "outputs": []
    }
  ]
}